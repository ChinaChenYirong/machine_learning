{
 "cells": [
  {
   "cell_type": "markdown",
   "metadata": {},
   "source": [
    "# 502 GPU\n",
    "\n",
    "View more, visit my tutorial page: https://morvanzhou.github.io/tutorials/\n",
    "My Youtube Channel: https://www.youtube.com/user/MorvanZhou\n",
    "\n",
    "Dependencies:\n",
    "* torch: 0.1.11\n",
    "* torchvision"
   ]
  },
  {
   "cell_type": "code",
   "execution_count": 39,
   "metadata": {},
   "outputs": [],
   "source": [
    "import torch\n",
    "import torch.nn as nn\n",
    "from torch.autograd import Variable\n",
    "import torch.utils.data as Data\n",
    "import torchvision\n",
    "\n",
    "torch.manual_seed(1)\n",
    "\n",
    "import matplotlib.pyplot as plt\n",
    "%matplotlib inline"
   ]
  },
  {
   "cell_type": "code",
   "execution_count": 40,
   "metadata": {},
   "outputs": [],
   "source": [
    "EPOCH = 1\n",
    "BATCH_SIZE = 50\n",
    "LR = 0.001\n",
    "DOWNLOAD_MNIST = False"
   ]
  },
  {
   "cell_type": "code",
   "execution_count": 41,
   "metadata": {},
   "outputs": [],
   "source": [
    "train_data = torchvision.datasets.MNIST(\n",
    "    root='./mnist/', \n",
    "    train=True, \n",
    "    transform=torchvision.transforms.ToTensor(), \n",
    "    download=DOWNLOAD_MNIST,)\n",
    "\n",
    "train_loader = Data.DataLoader(\n",
    "    dataset=train_data, \n",
    "    batch_size=BATCH_SIZE, \n",
    "    shuffle=True)\n",
    "\n",
    "test_data = torchvision.datasets.MNIST(\n",
    "    root='./mnist/', train=False)\n",
    "\n",
    "# !!!!!!!! Change in here !!!!!!!!! #\n",
    "test_x = Variable(torch.unsqueeze(test_data.test_data, dim=1)).type(torch.FloatTensor)[:2000].cuda()/255.   # Tensor on GPU\n",
    "test_y = test_data.test_labels[:2000].cuda()"
   ]
  },
  {
   "cell_type": "code",
   "execution_count": 42,
   "metadata": {},
   "outputs": [],
   "source": [
    "class CNN(nn.Module):\n",
    "    def __init__(self):\n",
    "        super(CNN, self).__init__()\n",
    "        self.conv1 = nn.Sequential(\n",
    "            nn.Conv2d(in_channels=1, out_channels=16, kernel_size=5, stride=1, padding=2,),                      \n",
    "            nn.ReLU(), \n",
    "            nn.MaxPool2d(kernel_size=2),)\n",
    "        self.conv2 = nn.Sequential(\n",
    "            nn.Conv2d(16, 32, 5, 1, 2), \n",
    "            nn.ReLU(), \n",
    "            nn.MaxPool2d(2),)\n",
    "        self.out = nn.Linear(32 * 7 * 7, 10)\n",
    "\n",
    "    def forward(self, x):\n",
    "        x = self.conv1(x)\n",
    "        x = self.conv2(x)\n",
    "        x = x.view(x.size(0), -1)\n",
    "        output = self.out(x)\n",
    "        return output"
   ]
  },
  {
   "cell_type": "code",
   "execution_count": 43,
   "metadata": {},
   "outputs": [
    {
     "data": {
      "text/plain": [
       "CNN(\n",
       "  (conv1): Sequential(\n",
       "    (0): Conv2d(1, 16, kernel_size=(5, 5), stride=(1, 1), padding=(2, 2))\n",
       "    (1): ReLU()\n",
       "    (2): MaxPool2d(kernel_size=2, stride=2, padding=0, dilation=1, ceil_mode=False)\n",
       "  )\n",
       "  (conv2): Sequential(\n",
       "    (0): Conv2d(16, 32, kernel_size=(5, 5), stride=(1, 1), padding=(2, 2))\n",
       "    (1): ReLU()\n",
       "    (2): MaxPool2d(kernel_size=2, stride=2, padding=0, dilation=1, ceil_mode=False)\n",
       "  )\n",
       "  (out): Linear(in_features=1568, out_features=10, bias=True)\n",
       ")"
      ]
     },
     "execution_count": 43,
     "metadata": {},
     "output_type": "execute_result"
    }
   ],
   "source": [
    "cnn = CNN()\n",
    "\n",
    "# !!!!!!!! Change in here !!!!!!!!! #\n",
    "cnn.cuda()      # Moves all model parameters and buffers to the GPU."
   ]
  },
  {
   "cell_type": "code",
   "execution_count": 44,
   "metadata": {},
   "outputs": [],
   "source": [
    "optimizer = torch.optim.Adam(cnn.parameters(), lr=LR)\n",
    "loss_func = nn.CrossEntropyLoss()\n",
    "\n",
    "losses_his = []"
   ]
  },
  {
   "cell_type": "markdown",
   "metadata": {},
   "source": [
    "### Training"
   ]
  },
  {
   "cell_type": "code",
   "execution_count": 45,
   "metadata": {},
   "outputs": [
    {
     "name": "stdout",
     "output_type": "stream",
     "text": [
      "Epoch:  0 | train loss: 2.3105 | test accuracy: 0.00\n",
      "Epoch:  0 | train loss: 0.6184 | test accuracy: 0.00\n",
      "Epoch:  0 | train loss: 0.1270 | test accuracy: 0.00\n",
      "Epoch:  0 | train loss: 0.2366 | test accuracy: 0.00\n",
      "Epoch:  0 | train loss: 0.4061 | test accuracy: 0.00\n",
      "Epoch:  0 | train loss: 0.0847 | test accuracy: 0.00\n",
      "Epoch:  0 | train loss: 0.1942 | test accuracy: 0.00\n",
      "Epoch:  0 | train loss: 0.1079 | test accuracy: 0.00\n",
      "Epoch:  0 | train loss: 0.1253 | test accuracy: 0.00\n",
      "Epoch:  0 | train loss: 0.0693 | test accuracy: 0.00\n",
      "Epoch:  0 | train loss: 0.2244 | test accuracy: 0.00\n",
      "Epoch:  0 | train loss: 0.2114 | test accuracy: 0.00\n",
      "Epoch:  0 | train loss: 0.0239 | test accuracy: 0.00\n",
      "Epoch:  0 | train loss: 0.0860 | test accuracy: 0.00\n",
      "Epoch:  0 | train loss: 0.2168 | test accuracy: 0.00\n",
      "Epoch:  0 | train loss: 0.1002 | test accuracy: 0.00\n",
      "Epoch:  0 | train loss: 0.0440 | test accuracy: 0.00\n",
      "Epoch:  0 | train loss: 0.0884 | test accuracy: 0.00\n",
      "Epoch:  0 | train loss: 0.0562 | test accuracy: 0.00\n",
      "Epoch:  0 | train loss: 0.1035 | test accuracy: 0.00\n",
      "Epoch:  0 | train loss: 0.0322 | test accuracy: 0.00\n",
      "Epoch:  0 | train loss: 0.0213 | test accuracy: 0.00\n",
      "Epoch:  0 | train loss: 0.0271 | test accuracy: 0.00\n",
      "Epoch:  0 | train loss: 0.1221 | test accuracy: 0.00\n"
     ]
    }
   ],
   "source": [
    "for epoch in range(EPOCH):\n",
    "    for step, (x, y) in enumerate(train_loader):\n",
    "\n",
    "        # !!!!!!!! Change in here !!!!!!!!! #\n",
    "        b_x = Variable(x).cuda()    # Tensor on GPU\n",
    "        b_y = Variable(y).cuda()    # Tensor on GPU\n",
    "\n",
    "        output = cnn(b_x)\n",
    "        loss = loss_func(output, b_y)\n",
    "        losses_his.append(loss.item())\n",
    "        optimizer.zero_grad()\n",
    "        loss.backward()\n",
    "        optimizer.step()\n",
    "\n",
    "        if step % 50 == 0:\n",
    "            test_output = cnn(test_x)\n",
    "\n",
    "            # !!!!!!!! Change in here !!!!!!!!! #\n",
    "            pred_y = torch.max(test_output, 1)[1].cuda().data.squeeze()  # move the computation in GPU\n",
    "\n",
    "            accuracy = torch.sum(pred_y == test_y) / float(test_y.size(0))\n",
    "            \n",
    "            print('Epoch: ', epoch, '| train loss: %.4f' % loss.item(), '| test accuracy: %.2f' % accuracy)\n"
   ]
  },
  {
   "cell_type": "code",
   "execution_count": 46,
   "metadata": {},
   "outputs": [
    {
     "data": {
      "image/png": "[encoded data removed]",
      "text/plain": [
       "<Figure size 432x288 with 1 Axes>"
      ]
     },
     "metadata": {
      "needs_background": "light"
     },
     "output_type": "display_data"
    }
   ],
   "source": [
    "plt.plot(losses_his, label='loss')\n",
    "plt.legend(loc='best')\n",
    "plt.xlabel('Steps')\n",
    "plt.ylabel('Loss')\n",
    "plt.ylim((0, 1))\n",
    "plt.show()"
   ]
  },
  {
   "cell_type": "markdown",
   "metadata": {},
   "source": [
    "### Test"
   ]
  },
  {
   "cell_type": "code",
   "execution_count": 47,
   "metadata": {},
   "outputs": [
    {
     "name": "stdout",
     "output_type": "stream",
     "text": [
      "tensor([7, 2, 1, 0, 4, 1, 4, 9, 5, 9], device='cuda:0') prediction number\n",
      "tensor([7, 2, 1, 0, 4, 1, 4, 9, 5, 9], device='cuda:0') real number\n"
     ]
    }
   ],
   "source": [
    "# !!!!!!!! Change in here !!!!!!!!! #\n",
    "test_output = cnn(test_x[:10])\n",
    "pred_y = torch.max(test_output, 1)[1].cuda().data.squeeze() # move the computation in GPU\n",
    "\n",
    "print(pred_y, 'prediction number')\n",
    "print(test_y[:10], 'real number')"
   ]
  },
  {
   "cell_type": "code",
   "execution_count": null,
   "metadata": {},
   "outputs": [],
   "source": []
  }
 ],
 "metadata": {
  "kernelspec": {
   "display_name": "Python [conda env:pytorch10]",
   "language": "python",
   "name": "conda-env-pytorch10-py"
  },
  "language_info": {
   "codemirror_mode": {
    "name": "ipython",
    "version": 3
   },
   "file_extension": ".py",
   "mimetype": "text/x-python",
   "name": "python",
   "nbconvert_exporter": "python",
   "pygments_lexer": "ipython3",
   "version": "3.5.5"
  }
 },
 "nbformat": 4,
 "nbformat_minor": 2
}
